{
 "cells": [
  {
   "cell_type": "code",
   "execution_count": 3,
   "metadata": {},
   "outputs": [],
   "source": [
    "from stops import table\n",
    "import pandas as pd"
   ]
  },
  {
   "cell_type": "code",
   "execution_count": 4,
   "metadata": {},
   "outputs": [],
   "source": [
    "stopsDF = pd.read_csv(\"../gtfs/stops.txt\")[['stop_id','stop_name']]\n",
    "stopsDict = dict(zip( stopsDF.stop_name,stopsDF.stop_id))"
   ]
  },
  {
   "cell_type": "code",
   "execution_count": 6,
   "metadata": {},
   "outputs": [
    {
     "name": "stdout",
     "output_type": "stream",
     "text": [
      "checking line 1\n",
      "checking line 2\n",
      "checking line 3\n",
      "checking line 4\n",
      "Format error on line 4: Grand Central; - 42 St\n",
      "checking line 5\n",
      "checking line 6L\n",
      "Format error on line 6L: Morrison Av - Sound View\n",
      "Format error on line 6L: Grand Central; - 42 St\n",
      "checking line 6E\n",
      "checking line 7L\n",
      "checking line 7E\n",
      "checking line A\n",
      "checking line B\n",
      "checking line C\n",
      "checking line D\n",
      "checking line E\n",
      "checking line F\n",
      "checking line G\n",
      "checking line J\n",
      "checking line L\n",
      "checking line M\n",
      "checking line N\n",
      "checking line Q\n",
      "checking line R\n",
      "checking line S\n",
      "checking line W\n",
      "checking line Z\n"
     ]
    }
   ],
   "source": [
    "for line,stops in table.items():\n",
    "\tprint(\"checking line \"+line)\n",
    "\tfor s in stops:\n",
    "\t\tif s not in stopsDict.keys():\n",
    "\t\t\tprint(\"Format error on line \"+line+\": \"+s)"
   ]
  },
  {
   "cell_type": "code",
   "execution_count": null,
   "metadata": {},
   "outputs": [],
   "source": []
  }
 ],
 "metadata": {
  "kernelspec": {
   "display_name": "Python 3",
   "language": "python",
   "name": "python3"
  },
  "language_info": {
   "codemirror_mode": {
    "name": "ipython",
    "version": 3
   },
   "file_extension": ".py",
   "mimetype": "text/x-python",
   "name": "python",
   "nbconvert_exporter": "python",
   "pygments_lexer": "ipython3",
   "version": "3.7.3"
  }
 },
 "nbformat": 4,
 "nbformat_minor": 2
}
