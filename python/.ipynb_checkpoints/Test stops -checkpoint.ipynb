{
 "cells": [
  {
   "cell_type": "code",
   "execution_count": 17,
   "metadata": {},
   "outputs": [],
   "source": [
    "from stops import table\n",
    "import pandas as pd"
   ]
  },
  {
   "cell_type": "code",
   "execution_count": 18,
   "metadata": {},
   "outputs": [],
   "source": [
    "stopsDF = pd.read_csv(\"../gtfs/stops.txt\")[['stop_id','stop_name']]\n",
    "stopsDict = dict(zip( stopsDF.stop_name,stopsDF.stop_id))"
   ]
  },
  {
   "cell_type": "code",
   "execution_count": 39,
   "metadata": {},
   "outputs": [
    {
     "name": "stdout",
     "output_type": "stream",
     "text": [
      "checking line 1\n",
      "Format error on line 1: Van Cortlandt Park  -  242 St\n",
      "Format error on line 1: Times Square - 42 St\n",
      "Format error on line 1: Christopher St - Sheridan Square\n",
      "checking line 2\n",
      "Format error on line 2: East 180 St\n",
      "Format error on line 2: WEst Farms Square - East Remont Av\n",
      "Format error on line 2: Times Square - 42 St\n",
      "Format error on line 2:  Eastern Pkwy - Brooklyn Museum\n",
      "Format error on line 2: Newkirk Aveue\n",
      "checking line 3\n",
      "checking line 4\n",
      "checking line 5\n",
      "checking line 6L\n",
      "checking line 6E\n",
      "checking line 7L\n",
      "checking line 7E\n",
      "checking line A\n",
      "checking line B\n",
      "checking line C\n",
      "checking line D\n",
      "checking line E\n",
      "checking line F\n",
      "checking line G\n",
      "checking line J\n",
      "checking line L\n",
      "checking line M\n",
      "checking line N\n",
      "checking line Q\n",
      "checking line R\n",
      "checking line S\n",
      "checking line W\n",
      "checking line Z\n"
     ]
    }
   ],
   "source": [
    "for line,stops in table.items():\n",
    "\tprint(\"checking line \"+line)\n",
    "\tfor s in stops:\n",
    "\t\tif s not in stopsDict.keys():\n",
    "\t\t\tprint(\"Format error on line \"+line+\": \"+s)"
   ]
  }
 ],
 "metadata": {
  "kernelspec": {
   "display_name": "Python 3",
   "language": "python",
   "name": "python3"
  },
  "language_info": {
   "codemirror_mode": {
    "name": "ipython",
    "version": 3
   },
   "file_extension": ".py",
   "mimetype": "text/x-python",
   "name": "python",
   "nbconvert_exporter": "python",
   "pygments_lexer": "ipython3",
   "version": "3.7.3"
  }
 },
 "nbformat": 4,
 "nbformat_minor": 2
}
